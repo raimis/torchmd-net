{
 "cells": [
  {
   "cell_type": "markdown",
   "metadata": {},
   "source": [
    "# Benchmarking of Graph Network"
   ]
  },
  {
   "cell_type": "code",
   "execution_count": 1,
   "metadata": {},
   "outputs": [],
   "source": [
    "from copy import deepcopy\n",
    "from matplotlib import pyplot as plt\n",
    "from moleculekit.molecule import Molecule\n",
    "from moleculekit.periodictable import periodictable\n",
    "import numpy as np\n",
    "import torch as pt\n",
    "from torch.utils.benchmark import Timer\n",
    "from torchmdnet.models.model import create_model\n",
    "from torchmdnet.optimize import optimize as optimize_model"
   ]
  },
  {
   "cell_type": "markdown",
   "metadata": {},
   "source": [
    "## Models"
   ]
  },
  {
   "cell_type": "code",
   "execution_count": 2,
   "metadata": {},
   "outputs": [],
   "source": [
    "# Graph network (default)\n",
    "model_1 = create_model({\n",
    "    'embedding_dimension': 128,\n",
    "    'num_layers': 6,\n",
    "    'num_rbf': 50,\n",
    "    'rbf_type': 'expnorm',\n",
    "    'trainable_rbf': True,\n",
    "    'activation': 'silu',\n",
    "    'neighbor_embedding': True,\n",
    "    'cutoff_lower': 0.0,\n",
    "    'cutoff_upper': 5.0,\n",
    "    'max_z': 100,\n",
    "    'max_num_neighbors': 32,\n",
    "    'model': 'graph-network',\n",
    "    'aggr': 'add',\n",
    "    'derivative': False,\n",
    "    'atom_filter': -1,\n",
    "    'prior_model': None,\n",
    "    'output_model': 'Scalar',\n",
    "    'reduce_op': 'add',\n",
    "    'neighbors': 'simple'\n",
    "})\n",
    "\n",
    "# Graph network (compatible with NNPOps, https://github.com/torchmd/torchmd-net/issues/48),\n",
    "# i.e. rbf_type='gauss', trainable_rbf=False, activation='ssp', and neighbor_embedding=False\n",
    "model_2 = create_model({\n",
    "    'embedding_dimension': 128,\n",
    "    'num_layers': 6,\n",
    "    'num_rbf': 50,\n",
    "    'rbf_type': 'gauss',\n",
    "    'trainable_rbf': False,\n",
    "    'activation': 'ssp',\n",
    "    'neighbor_embedding': False,\n",
    "    'cutoff_lower': 0.0,\n",
    "    'cutoff_upper': 5.0,\n",
    "    'max_z': 100,\n",
    "    'max_num_neighbors': 32,\n",
    "    'model': 'graph-network',\n",
    "    'aggr': 'add',\n",
    "    'derivative': False,\n",
    "    'atom_filter': -1,\n",
    "    'prior_model': None,\n",
    "    'output_model': 'Scalar',\n",
    "    'reduce_op': 'add',\n",
    "    'neighbors': 'simple'\n",
    "})\n",
    "\n",
    "# Graph network (brute force)\n",
    "model_3 = create_model({\n",
    "    'embedding_dimension': 128,\n",
    "    'num_layers': 6,\n",
    "    'num_rbf': 50,\n",
    "    'rbf_type': 'expnorm',\n",
    "    'trainable_rbf': True,\n",
    "    'activation': 'silu',\n",
    "    'neighbor_embedding': True,\n",
    "    'cutoff_lower': 0.0,\n",
    "    'cutoff_upper': 5.0,\n",
    "    'max_z': 100,\n",
    "    'max_num_neighbors': 32,\n",
    "    'model': 'graph-network',\n",
    "    'aggr': 'add',\n",
    "    'derivative': False,\n",
    "    'atom_filter': -1,\n",
    "    'prior_model': None,\n",
    "    'output_model': 'Scalar',\n",
    "    'reduce_op': 'simple_add',\n",
    "    'neighbors': 'brute_force'\n",
    "})"
   ]
  },
  {
   "cell_type": "markdown",
   "metadata": {},
   "source": [
    "## Benchmarking function"
   ]
  },
  {
   "cell_type": "code",
   "execution_count": 3,
   "metadata": {},
   "outputs": [],
   "source": [
    "def benchmark(model, pdb_file, device, optimize=True, compute_forces=True, compute_derivatives=False, batch_size=1, cuda_graph=False):\n",
    "\n",
    "    # Optimize the model\n",
    "    model = deepcopy(model).to(device)\n",
    "    if optimize:\n",
    "        assert not compute_derivatives\n",
    "        assert batch_size == 1\n",
    "        model = optimize_model(model)\n",
    "\n",
    "    # Setup the derivative computation\n",
    "    for parameter in model.parameters():\n",
    "        parameter.requires_grad = compute_derivatives\n",
    "\n",
    "    # Get molecular data\n",
    "    molecule = Molecule(pdb_file)\n",
    "    atomic_numbers = pt.tensor([periodictable[symbol].number for symbol in molecule.element], dtype=pt.long, device=device)\n",
    "    positions = pt.tensor(molecule.coords[:,:,0], dtype=pt.float32, device=device).to(device)\n",
    "\n",
    "    # Setup a batch\n",
    "    batch = pt.flatten(pt.tile(pt.arange(batch_size).unsqueeze(1), (1, len(atomic_numbers)))).to(device)\n",
    "    atomic_numbers = pt.tile(atomic_numbers, (batch_size,))\n",
    "    positions = pt.tile(positions, (batch_size, 1)).detach()\n",
    "\n",
    "    # Setup the force computation\n",
    "    assert not (compute_forces and (batch_size > 1))\n",
    "    positions.requires_grad = compute_forces\n",
    "\n",
    "    # Setup a benchmark\n",
    "    stmt = None\n",
    "    graph = None\n",
    "    if cuda_graph:\n",
    "\n",
    "        # Create a graph\n",
    "        graph = pt.cuda.CUDAGraph()\n",
    "\n",
    "        # Warm up the graph\n",
    "        for _ in range(3):\n",
    "            energy =  model(atomic_numbers, positions, batch)[0]\n",
    "            if compute_forces or compute_derivatives:\n",
    "                energy.sum().backward()\n",
    "\n",
    "        # Capture the grpah\n",
    "        with pt.cuda.graph(graph):\n",
    "            energy = model(atomic_numbers, positions, batch)[0]\n",
    "            if compute_forces or compute_derivatives:\n",
    "                energy.sum().backward()\n",
    "\n",
    "        stmt = 'graph.replay()'\n",
    "    else:\n",
    "        stmt = f'''\n",
    "            energy = model(atomic_numbers, positions, batch)\n",
    "            {'energy[0].sum().backward()' if compute_forces or compute_derivatives else ''}\n",
    "            '''\n",
    "\n",
    "    # Benchmark\n",
    "    timer = Timer(stmt=stmt, globals=locals())\n",
    "    speed = timer.blocked_autorange(min_run_time=10).median * 1000 # s --> ms\n",
    "\n",
    "    return speed"
   ]
  },
  {
   "cell_type": "markdown",
   "metadata": {},
   "source": [
    "## Speed for MD"
   ]
  },
  {
   "cell_type": "code",
   "execution_count": 4,
   "metadata": {},
   "outputs": [
    {
     "name": "stdout",
     "output_type": "stream",
     "text": [
      "Method: default\n",
      "  ALA2: 7.977965270001733 ms/it\n",
      "  TST: 7.618675989997428 ms/it\n",
      "  CLN: 6.1609561600016605 ms/it\n",
      "  DHFR: 27.396543099985138 ms/it\n",
      "  FC9: 66.3056460007283 ms/it\n",
      "  STMV: failed\n",
      "Method: compatible\n",
      "  ALA2: 7.658607015000597 ms/it\n",
      "  TST: 7.792522695003754 ms/it\n",
      "  CLN: 7.312152670001524 ms/it\n",
      "  DHFR: 25.790021100056038 ms/it\n",
      "  FC9: 62.54085699993084 ms/it\n",
      "  STMV: failed\n",
      "Method: optimized\n",
      "  ALA2: 3.787452119995578 ms/it\n",
      "  TST: 2.829501859996526 ms/it\n",
      "  CLN: 2.9367655650003144 ms/it\n",
      "  DHFR: 20.309613449990138 ms/it\n",
      "  FC9: 47.33222264999313 ms/it\n",
      "  STMV: 222.8190639998502 ms/it\n",
      "Method: brute_force\n",
      "  ALA2: 6.479403905000254 ms/it\n",
      "  TST: 5.038708424995093 ms/it\n",
      "  CLN: 8.716471800016734 ms/it\n",
      "  DHFR: failed\n",
      "  FC9: failed\n",
      "  STMV: failed\n",
      "Method: brute_force+graph\n",
      "  ALA2: 1.1300752100032696 ms/it\n",
      "  TST: 1.5762312850029048 ms/it\n",
      "  CLN: 8.712789699984569 ms/it\n",
      "  DHFR: failed\n",
      "  FC9: failed\n",
      "  STMV: failed\n"
     ]
    }
   ],
   "source": [
    "device = pt.device('cuda')\n",
    "systems = [('systems/alanine_dipeptide.pdb', 'ALA2'),\n",
    "           ('systems/testosterone.pdb', 'TST'),\n",
    "           ('systems/chignolin.pdb', 'CLN'),\n",
    "           ('systems/dhfr.pdb', 'DHFR'),\n",
    "           ('systems/factorIX.pdb', 'FC9'),\n",
    "           ('systems/stmv.pdb', 'STMV')]\n",
    "\n",
    "methods = [('default', model_1, False, False),\n",
    "           ('compatible', model_2, False, False),\n",
    "           ('optimized', model_2, True, False),\n",
    "           ('brute_force', model_3, False, False),\n",
    "           ('brute_force+graph', model_3, False, True)]\n",
    "\n",
    "speed_methods = {}\n",
    "for meth, model, optimize, cuda_graph in methods:\n",
    "    speed_methods[meth] = {}\n",
    "    print(f'Method: {meth}')\n",
    "    for pdb_file, name in systems:\n",
    "        try:\n",
    "            speed = benchmark(model, pdb_file, device, optimize=optimize, compute_forces=True ,compute_derivatives=False, batch_size=1, cuda_graph=cuda_graph)\n",
    "            speed_methods[meth][name] = speed\n",
    "            print(f'  {name}: {speed} ms/it')\n",
    "        except Exception as e:\n",
    "            print(f'  {name}: failed')"
   ]
  },
  {
   "cell_type": "code",
   "execution_count": 5,
   "metadata": {},
   "outputs": [
    {
     "data": {
      "image/png": "[encoded data removed]",
      "text/plain": [
       "<Figure size 576x432 with 1 Axes>"
      ]
     },
     "metadata": {
      "needs_background": "light"
     },
     "output_type": "display_data"
    }
   ],
   "source": [
    "plt.figure(figsize=(8,6))\n",
    "\n",
    "labels = []\n",
    "for i, (meth, speeds) in enumerate(speed_methods.items()):\n",
    "    labels = speeds.keys() if len(speeds.keys()) > len(labels) else labels\n",
    "    x = np.arange(len(speeds)) + 0.15*i - 0.3\n",
    "    plt.bar(x, speeds.values(), width=0.12, log=True, label=meth)\n",
    "\n",
    "plt.axhline(34.56, color='black', linestyle=':', label='10 ns/day')\n",
    "plt.axhline(3.456, color='red', linestyle=':', label='100 ns/day')\n",
    "\n",
    "plt.title('Performance of Graph Network (for MD)')\n",
    "plt.xlabel('System')\n",
    "plt.xticks(np.arange(len(labels)), labels)\n",
    "plt.ylabel('Speed [ms/it]')\n",
    "plt.legend()\n",
    "plt.show()"
   ]
  },
  {
   "cell_type": "markdown",
   "metadata": {},
   "source": [
    "## Speed for inference and training"
   ]
  },
  {
   "cell_type": "code",
   "execution_count": 6,
   "metadata": {},
   "outputs": [
    {
     "name": "stdout",
     "output_type": "stream",
     "text": [
      "System: ALA2\n",
      "  1: 2.5806247303262353 ms/it\n",
      "  2: 2.6035668700933456 ms/it\n",
      "  4: 2.645490919239819 ms/it\n",
      "  8: 2.7056596404872835 ms/it\n",
      "  16: 2.7221463806927204 ms/it\n",
      "  32: 2.7560028596781194 ms/it\n",
      "  64: 4.2596927110571405 ms/it\n",
      "  128: 7.2362863924354315 ms/it\n",
      "  256: 13.14713570754975 ms/it\n",
      "  512: 24.94113480206579 ms/it\n",
      "  1024: 48.6939629772678 ms/it\n",
      "System: CLN\n",
      "  1: 2.7635874692350626 ms/it\n",
      "  2: 2.8175582049880172 ms/it\n",
      "  4: 3.7817843700759113 ms/it\n",
      "  8: 6.205195549409837 ms/it\n",
      "  16: 10.87750195292756 ms/it\n",
      "  32: 20.342897553928196 ms/it\n",
      "  64: 38.8993666972965 ms/it\n",
      "  128: 76.25738007482141 ms/it\n",
      "  256: 152.26690692361444 ms/it\n",
      "  512: 303.5780100617558 ms/it\n",
      "  1024: 608.4158178418875 ms/it\n",
      "System: DHFR\n",
      "  1: 14.775000151712447 ms/it\n",
      "  2: 24.597198888659477 ms/it\n",
      "  4: 44.10969840828329 ms/it\n",
      "  8: 83.3530118688941 ms/it\n",
      "  16: 162.49962442088872 ms/it\n",
      "  32: 322.6637861225754 ms/it\n",
      "  64: 630.0162250408903 ms/it\n",
      "  128: failed\n",
      "  256: failed\n",
      "  512: failed\n",
      "  1024: failed\n",
      "System: FC9\n",
      "  1: 38.061286113224924 ms/it\n",
      "  2: 61.64830503985286 ms/it\n",
      "  4: 108.42715902253985 ms/it\n",
      "  8: 202.93757785111666 ms/it\n",
      "  16: 392.0052860630676 ms/it\n",
      "  32: failed\n",
      "  64: failed\n",
      "  128: failed\n",
      "  256: failed\n",
      "  512: failed\n",
      "  1024: failed\n",
      "System: STMV\n",
      "  1: 428.46657696645707 ms/it\n",
      "  2: 565.2418259996921 ms/it\n",
      "  4: 843.9905470004305 ms/it\n",
      "  8: failed\n",
      "  16: failed\n",
      "  32: failed\n",
      "  64: failed\n",
      "  128: failed\n",
      "  256: failed\n",
      "  512: failed\n",
      "  1024: failed\n"
     ]
    }
   ],
   "source": [
    "device = pt.device('cuda')\n",
    "systems = [('systems/alanine_dipeptide.pdb', 'ALA2'),\n",
    "           ('systems/chignolin.pdb', 'CLN'),\n",
    "           ('systems/dhfr.pdb', 'DHFR'),\n",
    "           ('systems/factorIX.pdb', 'FC9'),\n",
    "           ('systems/stmv.pdb', 'STMV')]\n",
    "\n",
    "speed_inference = {}\n",
    "for pdb_file, name in systems:\n",
    "    speed_inference[name] = {}\n",
    "    print(f'System: {name}')\n",
    "    for batch_size in (1, 2, 4, 8, 16, 32, 64, 128, 256, 512, 1024):\n",
    "        try:\n",
    "            speed = benchmark(model_1, pdb_file, device, optimize=False, compute_forces=False, compute_derivatives=False, batch_size=batch_size)\n",
    "            speed_inference[name][batch_size] = speed\n",
    "            print(f'  {batch_size}: {speed} ms/it')\n",
    "        except Exception as e:\n",
    "            print(f'  {batch_size}: failed')"
   ]
  },
  {
   "cell_type": "code",
   "execution_count": 7,
   "metadata": {},
   "outputs": [
    {
     "name": "stdout",
     "output_type": "stream",
     "text": [
      "System: ALA2\n",
      "  1: 5.246556689962745 ms/it\n",
      "  2: 6.43798989476636 ms/it\n",
      "  4: 6.762395496480167 ms/it\n",
      "  8: 7.438803277909756 ms/it\n",
      "  16: 7.241337443701923 ms/it\n",
      "  32: 10.024334152694792 ms/it\n",
      "  64: 11.317517946008593 ms/it\n",
      "  128: 21.076745353639126 ms/it\n",
      "  256: 36.19976422050968 ms/it\n",
      "  512: 65.30508247669786 ms/it\n",
      "  1024: 124.31978504173458 ms/it\n",
      "System: CLN\n",
      "  1: 8.889210340566933 ms/it\n",
      "  2: 9.632434090599418 ms/it\n",
      "  4: 9.27276280708611 ms/it\n",
      "  8: 18.307410390116274 ms/it\n",
      "  16: 30.377877689898014 ms/it\n",
      "  32: 53.783495584502816 ms/it\n",
      "  64: 100.32421408686787 ms/it\n",
      "  128: failed\n",
      "  256: failed\n",
      "  512: failed\n",
      "  1024: failed\n",
      "System: DHFR\n",
      "  1: 34.22370969783514 ms/it\n",
      "  2: 58.593000983819366 ms/it\n",
      "  4: 105.5183638818562 ms/it\n",
      "  8: failed\n",
      "  16: failed\n",
      "  32: failed\n",
      "  64: failed\n",
      "  128: failed\n",
      "  256: failed\n",
      "  512: failed\n",
      "  1024: failed\n",
      "System: FC9\n",
      "  1: 75.82235499285161 ms/it\n",
      "  2: 131.27196510322392 ms/it\n",
      "  4: failed\n",
      "  8: failed\n",
      "  16: failed\n",
      "  32: failed\n",
      "  64: failed\n",
      "  128: failed\n",
      "  256: failed\n",
      "  512: failed\n",
      "  1024: failed\n",
      "System: STMV\n",
      "  1: failed\n",
      "  2: failed\n",
      "  4: failed\n",
      "  8: failed\n",
      "  16: failed\n",
      "  32: failed\n",
      "  64: failed\n",
      "  128: failed\n",
      "  256: failed\n",
      "  512: failed\n",
      "  1024: failed\n"
     ]
    }
   ],
   "source": [
    "device = pt.device('cuda')\n",
    "systems = [('systems/alanine_dipeptide.pdb', 'ALA2'),\n",
    "           ('systems/chignolin.pdb', 'CLN'),\n",
    "           ('systems/dhfr.pdb', 'DHFR'),\n",
    "           ('systems/factorIX.pdb', 'FC9'),\n",
    "           ('systems/stmv.pdb', 'STMV')]\n",
    "\n",
    "speed_training = {}\n",
    "for pdb_file, name in systems:\n",
    "    speed_training[name] = {}\n",
    "    print(f'System: {name}')\n",
    "    for batch_size in (1, 2, 4, 8, 16, 32, 64, 128, 256, 512, 1024):\n",
    "        try:\n",
    "            speed = benchmark(model_1, pdb_file, device, optimize=False, compute_forces=False, compute_derivatives=True, batch_size=batch_size)\n",
    "            speed_training[name][batch_size] = speed\n",
    "            print(f'  {batch_size}: {speed} ms/it')\n",
    "        except Exception as e:\n",
    "            print(f'  {batch_size}: failed')"
   ]
  },
  {
   "cell_type": "code",
   "execution_count": 8,
   "metadata": {},
   "outputs": [
    {
     "data": {
      "image/png": "[encoded data removed]",
      "text/plain": [
       "<Figure size 576x432 with 1 Axes>"
      ]
     },
     "metadata": {
      "needs_background": "light"
     },
     "output_type": "display_data"
    }
   ],
   "source": [
    "plt.figure(figsize=(8,6))\n",
    "\n",
    "for name, speeds in speed_inference.items():\n",
    "    plt.plot(speeds.keys(), speeds.values(), label=name, marker='o')\n",
    "\n",
    "plt.title('Performance of Graph Network (for inference)')\n",
    "plt.xlabel('Batch size')\n",
    "plt.ylabel('Speed [ms/it]')\n",
    "plt.loglog()\n",
    "plt.legend()\n",
    "plt.show()"
   ]
  },
  {
   "cell_type": "code",
   "execution_count": 9,
   "metadata": {},
   "outputs": [
    {
     "data": {
      "image/png": "[encoded data removed]",
      "text/plain": [
       "<Figure size 576x432 with 1 Axes>"
      ]
     },
     "metadata": {
      "needs_background": "light"
     },
     "output_type": "display_data"
    }
   ],
   "source": [
    "plt.figure(figsize=(8,6))\n",
    "\n",
    "for name, speeds in speed_training.items():\n",
    "    plt.plot(speeds.keys(), speeds.values(), label=name, marker='o')\n",
    "\n",
    "plt.title('Performance of Graph Network (for training)')\n",
    "plt.xlabel('Batch size')\n",
    "plt.ylabel('Speed [ms/it]')\n",
    "plt.loglog()\n",
    "plt.legend()\n",
    "plt.show()"
   ]
  }
 ],
 "metadata": {
  "interpreter": {
   "hash": "475250b3cf807ed3cfcdd5b2e8760b9c29416cad54cd9aa950ed2b92e2b64699"
  },
  "kernelspec": {
   "display_name": "Python 3.9.10 ('torchmd-net')",
   "language": "python",
   "name": "python3"
  },
  "language_info": {
   "codemirror_mode": {
    "name": "ipython",
    "version": 3
   },
   "file_extension": ".py",
   "mimetype": "text/x-python",
   "name": "python",
   "nbconvert_exporter": "python",
   "pygments_lexer": "ipython3",
   "version": "3.9.10"
  },
  "orig_nbformat": 4
 },
 "nbformat": 4,
 "nbformat_minor": 2
}
