{
 "cells": [
  {
   "cell_type": "markdown",
   "metadata": {},
   "source": [
    "# Demonstation of the neigbor search operation"
   ]
  },
  {
   "cell_type": "markdown",
   "metadata": {},
   "source": [
    "## Compile and import"
   ]
  },
  {
   "cell_type": "code",
   "execution_count": 1,
   "metadata": {},
   "outputs": [],
   "source": [
    "import torch as pt\n",
    "from torchmdnet.neighbors import get_neighbor_list"
   ]
  },
  {
   "cell_type": "markdown",
   "metadata": {},
   "source": [
    "## Run"
   ]
  },
  {
   "cell_type": "code",
   "execution_count": 2,
   "metadata": {},
   "outputs": [],
   "source": [
    "pos = pt.tensor([[1., 2., 3.], [4., 5., 6.], [7., 8., 9.]])"
   ]
  },
  {
   "cell_type": "markdown",
   "metadata": {},
   "source": [
    "### Forward"
   ]
  },
  {
   "cell_type": "code",
   "execution_count": 3,
   "metadata": {},
   "outputs": [
    {
     "data": {
      "text/plain": [
       "(tensor([1, 2, 2], dtype=torch.int32),\n",
       " tensor([0, 0, 1], dtype=torch.int32),\n",
       " tensor([ 5.1962, 10.3923,  5.1962]))"
      ]
     },
     "execution_count": 3,
     "metadata": {},
     "output_type": "execute_result"
    }
   ],
   "source": [
    "get_neighbor_list(pos.to('cpu'))"
   ]
  },
  {
   "cell_type": "code",
   "execution_count": 4,
   "metadata": {},
   "outputs": [
    {
     "data": {
      "text/plain": [
       "(tensor([1, 2, 2], device='cuda:0', dtype=torch.int32),\n",
       " tensor([0, 0, 1], device='cuda:0', dtype=torch.int32),\n",
       " tensor([ 5.1962, 10.3923,  5.1962], device='cuda:0'))"
      ]
     },
     "execution_count": 4,
     "metadata": {},
     "output_type": "execute_result"
    }
   ],
   "source": [
    "get_neighbor_list(pos.to('cuda'))"
   ]
  },
  {
   "cell_type": "markdown",
   "metadata": {},
   "source": [
    "### Forward and backward"
   ]
  },
  {
   "cell_type": "code",
   "execution_count": 5,
   "metadata": {},
   "outputs": [
    {
     "data": {
      "text/plain": [
       "tensor([[-1.1547, -1.1547, -1.1547],\n",
       "        [ 0.0000,  0.0000,  0.0000],\n",
       "        [ 1.1547,  1.1547,  1.1547]])"
      ]
     },
     "execution_count": 5,
     "metadata": {},
     "output_type": "execute_result"
    }
   ],
   "source": [
    "pos_ = pos.to('cpu').detach()\n",
    "pos_.requires_grad = True\n",
    "res = get_neighbor_list(pos_)\n",
    "res[2].sum().backward()\n",
    "pos_.grad"
   ]
  },
  {
   "cell_type": "code",
   "execution_count": 6,
   "metadata": {},
   "outputs": [
    {
     "data": {
      "text/plain": [
       "tensor([[-1.1547, -1.1547, -1.1547],\n",
       "        [ 0.0000,  0.0000,  0.0000],\n",
       "        [ 1.1547,  1.1547,  1.1547]], device='cuda:0')"
      ]
     },
     "execution_count": 6,
     "metadata": {},
     "output_type": "execute_result"
    }
   ],
   "source": [
    "pos_ = pos.to('cuda').detach()\n",
    "pos_.requires_grad = True\n",
    "res = get_neighbor_list(pos_)\n",
    "res[2].sum().backward()\n",
    "pos_.grad"
   ]
  }
 ],
 "metadata": {
  "interpreter": {
   "hash": "475250b3cf807ed3cfcdd5b2e8760b9c29416cad54cd9aa950ed2b92e2b64699"
  },
  "kernelspec": {
   "display_name": "Python 3.9.10 ('torchmd-net')",
   "language": "python",
   "name": "python3"
  },
  "language_info": {
   "codemirror_mode": {
    "name": "ipython",
    "version": 3
   },
   "file_extension": ".py",
   "mimetype": "text/x-python",
   "name": "python",
   "nbconvert_exporter": "python",
   "pygments_lexer": "ipython3",
   "version": "3.9.10"
  },
  "orig_nbformat": 4
 },
 "nbformat": 4,
 "nbformat_minor": 2
}
