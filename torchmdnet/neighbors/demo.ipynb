{
 "cells": [
  {
   "cell_type": "markdown",
   "metadata": {},
   "source": [
    "# Demonstation of the neigbor search operation"
   ]
  },
  {
   "cell_type": "code",
   "execution_count": 1,
   "metadata": {},
   "outputs": [],
   "source": [
    "import torch as pt\n",
    "from torch.utils.cpp_extension import load"
   ]
  },
  {
   "cell_type": "markdown",
   "metadata": {},
   "source": [
    "## Compile of the kernel"
   ]
  },
  {
   "cell_type": "code",
   "execution_count": 2,
   "metadata": {},
   "outputs": [],
   "source": [
    "load(name='neighbors', sources=['neighbors.cpp', 'neighbors_cuda.cu'], is_python_module=False)\n",
    "get_neighbor_list = pt.ops.neighbors.get_neighbor_list"
   ]
  },
  {
   "cell_type": "markdown",
   "metadata": {},
   "source": [
    "## Run the operation"
   ]
  },
  {
   "cell_type": "code",
   "execution_count": 3,
   "metadata": {},
   "outputs": [
    {
     "data": {
      "text/plain": [
       "(tensor([0, 0, 1, 1, 2, 2], device='cuda:0', dtype=torch.int32),\n",
       " tensor([1, 2, 0, 2, 0, 1], device='cuda:0', dtype=torch.int32),\n",
       " tensor([ 5.1962, 10.3923,  5.1962,  5.1962, 10.3923,  5.1962], device='cuda:0'))"
      ]
     },
     "execution_count": 3,
     "metadata": {},
     "output_type": "execute_result"
    }
   ],
   "source": [
    "pos = pt.tensor([[1., 2., 3.], [4., 5., 6.], [7., 8., 9.]], device='cuda')\n",
    "get_neighbor_list(pos)"
   ]
  }
 ],
 "metadata": {
  "interpreter": {
   "hash": "475250b3cf807ed3cfcdd5b2e8760b9c29416cad54cd9aa950ed2b92e2b64699"
  },
  "kernelspec": {
   "display_name": "Python 3.9.10 ('torchmd-net')",
   "language": "python",
   "name": "python3"
  },
  "language_info": {
   "codemirror_mode": {
    "name": "ipython",
    "version": 3
   },
   "file_extension": ".py",
   "mimetype": "text/x-python",
   "name": "python",
   "nbconvert_exporter": "python",
   "pygments_lexer": "ipython3",
   "version": "3.9.10"
  },
  "orig_nbformat": 4
 },
 "nbformat": 4,
 "nbformat_minor": 2
}
